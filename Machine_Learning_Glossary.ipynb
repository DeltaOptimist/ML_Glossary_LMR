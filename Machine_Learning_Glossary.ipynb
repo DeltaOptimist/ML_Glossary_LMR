{
  "nbformat": 4,
  "nbformat_minor": 0,
  "metadata": {
    "colab": {
      "name": "Machine_Learning_Glossary.ipynb",
      "provenance": []
    },
    "kernelspec": {
      "name": "python3",
      "display_name": "Python 3"
    },
    "language_info": {
      "name": "python"
    }
  },
  "cells": [
    {
      "cell_type": "markdown",
      "metadata": {
        "id": "lLbIEyMvE6L5"
      },
      "source": [
        "##Machine Learning Glossary\n",
        "\n",
        "Below is a machine learning glossary that contains all the important machine learning terms in alphabetical order:"
      ]
    },
    {
      "cell_type": "markdown",
      "metadata": {
        "id": "fEV8pfygGrYC"
      },
      "source": [
        "1. A/B testing: A/B testing means comparing two techniques to see which is more effective and efficient.\n",
        "\n",
        "2. Accuracy: Accuracy is the ratio of the True predicted values to the Total predicted values.\n",
        "\n",
        "3. Activation Function: Activation Function is a function that decides whether a neuron should be activated or not.\n",
        "\n",
        "4. Agglomerative Clustering: Agglomerative clustering is one of the clustering algorithms where the process of grouping similar instances starts by creating multiple groups where each group contains one entity at the initial stage, then it finds the two most similar groups, merges them, repeats the process until it obtains a single group of the most similar instances.\n",
        "\n",
        "5. Anomaly Detection: Anomaly detection means identifying unlikely and rare events.\n",
        "\n",
        "6. AUC: AUC stands for Area Under the Curve. It is used to measure the entire area under the ROC curve. It shows an aggregate measure of the performance of a machine learning model across all classification thresholds.\n",
        "\n",
        "7. Backpropagation: Backpropagation means fine-tuning the weights of an artificial neural network based on the error rate. It results in low error rates, which makes the model more accurate.\n",
        "\n",
        "8. Bag of Words: A bag of Words is a representation of words, where a text is represented as a group of words irrespective of the grammar and the order of the words.\n",
        "\n",
        "9. Batch: Set of instances used in an iteration while training a model.\n",
        "\n",
        "10. Batch normalization: Batch normalization is the process of normalizing the input and output of the activation function in a hidden layer.\n",
        "\n",
        "11. Batch size: The number of instances in a batch is the batch size of a model.\n",
        "\n",
        "12. BERT: BERT stands for Bidirectional Encoder Representations From Transformers. It is a pre-trained model for Natural Language Processing tasks which is developed by Google.\n",
        "\n",
        "13. Binary Classification: Binary classification is one of the classification problems in machine learning where we have to classify between two mutually exclusive classes.\n",
        "\n",
        "14. Boosting: Boosting is a method of amplifying the accuracy of weak learners.\n",
        "\n",
        "15. Bounding box: A bounding box is an imaginary box to mark a point of reference in an image. It is used in computer vision applications such as object detection.\n",
        "\n",
        "16. Bucketing: Bucketing is a data pre-processing technique used to convert a feature into multiple binary features.\n",
        "\n",
        "17. Categorical data: Categorical data represents a discrete set of possible values. All the features in your dataset that can be divided into groups are categorical variables.\n",
        "\n",
        "18. Centroid: The center of a cluster as determined by clustering algorithms.\n",
        "\n",
        "19. Class: One of the values in the labels.\n",
        "\n",
        "20. Classification: Classification is the task of categorizing among two or more discrete classes."
      ]
    },
    {
      "cell_type": "markdown",
      "metadata": {
        "id": "U0HYRMwuHoZ9"
      },
      "source": [
        "21. Class-imbalance: Class imbalance is a challenge in binary classification problems when the classes in the labels are in different frequencies.\n",
        "\n",
        "22. Clustering: Clustering is the task of identifying similar instances based on similar features and assigning them to clusters.\n",
        "\n",
        "23. Collaborative Filtering: Collaborative filtering is a recommendation system method that is formed by the collaboration of multiple users. The idea behind it is to recommend products or services to a user that their peers have appreciated.\n",
        "\n",
        "24. Confusion Matrix: A confusion matrix is a performance evaluation metric used for summarizing the performance of a classification model.\n",
        "\n",
        "25. CNN: CNN stands for Convolutional Neural Network. It consists of one or more convolutional layers, often with a subsampling layer, which are followed by one or more fully connected layers in a standard neural network.\n",
        "\n",
        "26. Data analysis: Data analysis is the process of inspecting and exploring data generated by a particular population to find the information needed to make decisions and draw conclusions.\n",
        "\n",
        "27. Data augmentation: Data augmentation means increasing the amount of data by adding similar data to the already existing data. It helps in reducing the overfitting of a machine learning model.\n",
        "\n",
        "28. Decision tree: A decision tree is an algorithm, that predicts the label associated with an instance by travelling from a root node of a tree to a leaf.\n",
        "Early stopping: Early stopping is a regularization method used to avoid overfitting.\n",
        "\n",
        "29. Ensemble: Ensemble is a merger of the predictions made by multiple models.\n",
        "Epoch: An epoch indicates one cycle through the complete training data.\n",
        "\n",
        "30. False-negative rate: False Negatives/False Negatives + True Positives\n",
        "\n",
        "31. False-positive rate: False Positives/False Positives + True Negatives\n",
        "\n",
        "32. Feature engineering: Feature engineering is the process of determining the most important features for training a machine learning model.\n",
        "\n",
        "33. Fully connected layer: When each node in a hidden layer is connected to every node in the subsequent layer then it is known as a fully connected layer.\n",
        "\n",
        "34. Generalization: Generalization refers to the ability of a machine learning model to make correct predictions on an unseen dataset.\n",
        "35. Hidden layer: The layer between the input and output layer of a neural network is known as a hidden layer.\n",
        "36. Image recognition: The process of classifying objects in an image is known as image recognition.\n",
        "\n",
        "37. Input layer: The input layer is the first layer of a neural network that receives training data as an input.\n",
        "\n",
        "38. K-Means: K-Means is a clustering algorithm in machine learning that can group an unlabeled dataset very quickly and efficiently in just a few iterations.\n",
        "\n",
        "39. Learning rate: The number of weights updated at each iteration during the training of a model is known as the learning rate.\n",
        "\n",
        "40. Linear Regression: Linear regression is a machine learning algorithm that predicts the values of a dependent variable by using the values of an independent variable.\n",
        "\n",
        "41. Logistic Regression: Logistic regression is arguably the simplest machine learning algorithm for classification. It extends linear regression with a logistic function to make it suitable for classification.\n",
        "\n",
        "42. LSTM: LSTM stands for Long Short Term Memory. It is a type of neural network architecture that is used in deep learning applications where data is processed with memory gaps.\n",
        "\n",
        "43. Multiclass Classification: Classification with more than two classes is known as multiclass classification.\n",
        "\n",
        "44. Normalization: Normalization means to change the values in a way that they end up being in a normal distribution.\n",
        "\n",
        "45. One-hot encoding: One-hot encoding is used to produce a vector of length equal to the number of categories in the dataset.\n",
        "\n",
        "46. Overfitting: Overfitting means the machine learning model performed very well on the training data but does not generalize well.\n",
        "\n",
        "47. Perceptron: Perceptron is a type of neural network architecture that falls under the category of the simplest form of artificial neural networks.\n",
        "\n",
        "48. Pipeline: A machine learning pipeline means gathering data, preparing data, training models, and exporting the models to production.\n",
        "\n",
        "49. ROC: ROC stands for Receiver Operating Characteristic curve. It is a graph that shows the performance of a machine learning model on a classification problem by plotting the true positive rate and the false positive rate.\n",
        "\n",
        "50. Test set: The set of data used to test the performance of a model.\n",
        "\n",
        "51. Training set: The set of data used to train the model.\n",
        "\n",
        "52. Transformer: Transformer is a popular neural network architecture developed at Google which can be viewed as a stack of attention layers.\n",
        "\n",
        "53. True positive rate: True Positives/ True Positives + False Negatives\n",
        "\n",
        "54. Underfitting: Underfitting is the opposite of overfitting. It happens when the model is too easy to learn from the underlying structure of the data.\n"
      ]
    }
  ]
}